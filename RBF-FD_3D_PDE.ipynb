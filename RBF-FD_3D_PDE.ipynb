{
 "cells": [
  {
   "cell_type": "markdown",
   "metadata": {},
   "source": [
    "# Solving 3D Poisson Equation with RBF-FD Method\n",
    "## Problem Setup\n",
    "**PDE**: $-\\nabla^2 u = f$ in unit cube $[0,1]^3$  \n",
    "**Exact Solution**: $u(x,y,z) = \\sin(\\pi x)\\sin(\\pi y)\\sin(\\pi z)$  \n",
    "**Source Term**: $f = 3\\pi^2 u$  \n",
    "**Boundary**: Dirichlet conditions from exact solution"
   ]
  },
  {
   "cell_type": "markdown",
   "metadata": {},
   "source": [
    "## 1. Import Required Libraries"
   ]
  },
  {
   "cell_type": "code",
   "execution_count": null,
   "metadata": {},
   "outputs": [],
   "source": [
    "import numpy as np\n",
    "from scipy.spatial import KDTree\n",
    "from scipy.sparse import lil_matrix, csr_matrix\n",
    "from scipy.sparse.linalg import spsolve\n",
    "import matplotlib.pyplot as plt\n",
    "from mpl_toolkits.mplot3d import Axes3D"
   ]
  },
  {
   "cell_type": "markdown",
   "metadata": {},
   "source": [
    "## 2. Parameters Configuration\n",
    "Key parameters controlling the solution:\n",
    "- `n`: Number of nodes along each axis (total nodes = $n^3$)\n",
    "- `stencil_size`: Number of neighbors for local approximation\n",
    "- `poly_order`: Polynomial augmentation order (1=linear, 2=quadratic)\n",
    "- `regularization`: Small value to stabilize matrix inversion"
   ]
  },
  {
   "cell_type": "code",
   "execution_count": null,
   "metadata": {},
   "outputs": [],
   "source": [
    "# Computational parameters\n",
    "n = 10                # Nodes per axis\n",
    "stencil_size = 30     # Neighbors per stencil\n",
    "poly_order = 2        # 1=linear, 2=quadratic\n",
    "regularization = 1e-8 # Matrix stabilization\n",
    "\n",
    "# RBF parameters\n",
    "phi_order = 3         # Polyharmonic spline order (r^3)\n",
    "phi_factor = 12       # Laplacian factor for r^3: ∇²(r^3) = 12r"
   ]
  },
  {
   "cell_type": "markdown",
   "metadata": {},
   "source": [
    "## 3. Node Generation\n",
    "Creates structured grid nodes and identifies boundary nodes:"
   ]
  },
  {
   "cell_type": "code",
   "execution_count": null,
   "metadata": {},
   "outputs": [],
   "source": [
    "def generate_nodes(n):\n",
    "    \"\"\"Create structured grid in unit cube\"\"\"\n",
    "    x = np.linspace(0, 1, n)\n",
    "    X, Y, Z = np.meshgrid(x, x, x)\n",
    "    return np.vstack([X.ravel(), Y.ravel(), Z.ravel()]).T\n",
    "\n",
    "def identify_boundary(nodes, tol=1e-5):\n",
    "    \"\"\"Flag nodes on cube surfaces\"\"\"\n",
    "    return np.any((nodes <= tol) | (nodes >= 1 - tol), axis=1)\n",
    "\n",
    "# Generate nodes and boundary flags\n",
    "nodes = generate_nodes(n)\n",
    "bndry = identify_boundary(nodes)\n",
    "interior = ~bndry\n",
    "N = nodes.shape[0]"
   ]
  },
  {
   "cell_type": "markdown",
   "metadata": {},
   "source": [
    "## 4. Polynomial Setup\n",
    "Configures polynomial augmentation based on selected order:\n",
    "\n",
    "| Order | Terms Included | Count |\n",
    "|-------|----------------|-------|\n",
    "| 1     | 1, x, y, z     | 4     |\n",
    "| 2     | +x²,y²,z²,xy,xz,yz | 10 |\n",
    "| 3     | +x³,y³,z³,x²y,... | 20 |"
   ]
  },
  {
   "cell_type": "code",
   "execution_count": null,
   "metadata": {},
   "outputs": [],
   "source": [
    "# Polynomial configuration\n",
    "if poly_order == 1:\n",
    "    m = 4  # Linear terms\n",
    "elif poly_order == 2:\n",
    "    m = 10 # Quadratic terms\n",
    "else:\n",
    "    m = 20 # Cubic terms\n",
    "\n",
    "# Initialize KDTree for neighbor search\n",
    "tree = KDTree(nodes)"
   ]
  },
  {
   "cell_type": "markdown",
   "metadata": {},
   "source": [
    "## 5. Laplacian Matrix Assembly\n",
    "Constructs sparse differentiation matrix using RBF-FD:"
   ]
  },
  {
   "cell_type": "code",
   "execution_count": null,
   "metadata": {},
   "outputs": [],
   "source": [
    "L = lil_matrix((N, N))\n",
    "\n",
    "for i in np.where(interior)[0]:\n",
    "    # Get stencil neighbors\n",
    "    _, indices = tree.query(nodes[i], k=stencil_size)\n",
    "    stencil_nodes = nodes[indices]\n",
    "    n_stencil = len(indices)\n",
    "    \n",
    "    # Build RBF matrix (phi(r) = r^3)\n",
    "    A = np.zeros((n_stencil, n_stencil))\n",
    "    for j in range(n_stencil):\n",
    "        for k in range(j, n_stencil):\n",
    "            r = np.linalg.norm(stencil_nodes[j] - stencil_nodes[k])\n",
    "            A[j,k] = r**phi_order\n",
    "            A[k,j] = A[j,k]  # Symmetric\n",
    "    \n",
    "    # Add regularization\n",
    "    A += regularization * np.eye(n_stencil)\n",
    "    \n",
    "    # Build polynomial matrix\n",
    "    P = np.ones((n_stencil, m))\n",
    "    P[:, 1:4] = stencil_nodes  # x, y, z\n",
    "    if poly_order >= 2:\n",
    "        P[:, 4:7] = stencil_nodes**2  # x², y², z²\n",
    "        # Cross terms\n",
    "        cross_terms = np.column_stack([\n",
    "            stencil_nodes[:,0]*stencil_nodes[:,1],  # xy\n",
    "            stencil_nodes[:,0]*stencil_nodes[:,2],  # xz\n",
    "            stencil_nodes[:,1]*stencil_nodes[:,2]   # yz\n",
    "        ])\n",
    "        P[:, 7:10] = cross_terms\n",
    "    \n",
    "    # RHS for Laplacian approximation\n",
    "    center = nodes[i]\n",
    "    b_rbf = np.array([phi_factor * np.linalg.norm(node - center) \n",
    "                     for node in stencil_nodes])\n",
    "    \n",
    "    # Polynomial consistency RHS\n",
    "    b_poly = np.zeros(m)\n",
    "    if poly_order >= 2:\n",
    "        b_poly[4:7] = 2.0  # ∇²(x²)=2\n",
    "    \n",
    "    # Solve augmented system\n",
    "    aug_A = np.block([[A, P], [P.T, np.zeros((m, m))]])\n",
    "    aug_b = np.hstack([b_rbf, b_poly])\n",
    "    weights = np.linalg.lstsq(aug_A, aug_b, rcond=1e-6)[0][:n_stencil]\n",
    "    \n",
    "    # Store weights\n",
    "    L[i, indices] = weights"
   ]
  },
  {
   "cell_type": "markdown",
   "metadata": {},
   "source": [
    "## 6. Boundary Conditions\n",
    "Enforce Dirichlet conditions using exact solution:"
   ]
  },
  {
   "cell_type": "code",
   "execution_count": null,
   "metadata": {},
   "outputs": [],
   "source": [
    "# Exact solution function\n",
    "u_exact = lambda x: np.sin(np.pi*x[:,0]) * np.sin(np.pi*x[:,1]) * np.sin(np.pi*x[:,2])\n",
    "\n",
    "# Apply BCs to matrix\n",
    "L[bndry] = 0\n",
    "L[bndry, bndry] = 1.0\n",
    "L = L.tocsr()  # Convert to efficient format"
   ]
  },
  {
   "cell_type": "markdown",
   "metadata": {},
   "source": [
    "## 7. Solve Linear System\n",
    "Assemble RHS and solve using sparse solver:"
   ]
  },
  {
   "cell_type": "code",
   "execution_count": null,
   "metadata": {},
   "outputs": [],
   "source": [
    "# Source term (note negative sign for -∇²u = f)\n",
    "f = 3 * np.pi**2 * u_exact(nodes)\n",
    "rhs = -f.copy()\n",
    "rhs[bndry] = u_exact(nodes[bndry])\n",
    "\n",
    "# Solve\n",
    "u = spsolve(L, rhs)"
   ]
  },
  {
   "cell_type": "markdown",
   "metadata": {},
   "source": [
    "## 8. Post-processing\n",
    "Calculate errors and prepare visualization:"
   ]
  },
  {
   "cell_type": "code",
   "execution_count": null,
   "metadata": {},
   "outputs": [],
   "source": [
    "# Error calculation\n",
    "error = u - u_exact(nodes)\n",
    "relative_error = np.linalg.norm(error) / np.linalg.norm(u_exact(nodes))\n",
    "print(f\"Relative L2 Error: {relative_error:.4e}\")\n",
    "\n",
    "# Reshape for 3D visualization\n",
    "grid_shape = (n, n, n)\n",
    "U = u.reshape(grid_shape)\n",
    "U_exact = u_exact(nodes).reshape(grid_shape)\n",
    "error_3d = np.abs(U - U_exact)"
   ]
  },
  {
   "cell_type": "markdown",
   "metadata": {},
   "source": [
    "## 9. Visualization\n",
    "3D surface plots of solutions and error:"
   ]
  },
  {
   "cell_type": "code",
   "execution_count": null,
   "metadata": {},
   "outputs": [],
   "source": [
    "# Slice at z=0.5\n",
    "iz = n//2\n",
    "x = y = np.linspace(0, 1, n)\n",
    "X, Y = np.meshgrid(x, y)\n",
    "\n",
    "fig = plt.figure(figsize=(18, 5))\n",
    "\n",
    "# Numerical Solution\n",
    "ax1 = fig.add_subplot(131, projection='3d')\n",
    "ax1.plot_surface(X, Y, U[:, :, iz], cmap='viridis')\n",
    "ax1.set_title('Numerical Solution')\n",
    "\n",
    "# Exact Solution\n",
    "ax2 = fig.add_subplot(132, projection='3d')\n",
    "ax2.plot_surface(X, Y, U_exact[:, :, iz], cmap='viridis')\n",
    "ax2.set_title('Exact Solution')\n",
    "\n",
    "# Error\n",
    "ax3 = fig.add_subplot(133, projection='3d')\n",
    "ax3.plot_surface(X, Y, error_3d[:, :, iz], cmap='hot')\n",
    "ax3.set_title('Absolute Error')\n",
    "\n",
    "plt.tight_layout()\n",
    "plt.show()"
   ]
  }
 ],
 "metadata": {
  "kernelspec": {
   "display_name": "Python 3",
   "language": "python",
   "name": "python3"
  },
  "language_info": {
   "codemirror_mode": {
    "name": "ipython",
    "version": 3
   },
   "file_extension": ".py",
   "mimetype": "text/x-python",
   "name": "python",
   "nbconvert_exporter": "python",
   "pygments_lexer": "ipython3",
   "version": "3.8.5"
  }
 },
 "nbformat": 4,
 "nbformat_minor": 4
}
